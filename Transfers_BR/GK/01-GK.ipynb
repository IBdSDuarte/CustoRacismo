{
 "cells": [
  {
   "cell_type": "code",
   "execution_count": 5,
   "id": "12afd26a-8715-4157-94ab-e43a1c16a55a",
   "metadata": {},
   "outputs": [
    {
     "name": "stdout",
     "output_type": "stream",
     "text": [
      "Hora Inicial: 18:36:20\n",
      "Tabela não encontrada no arquivo: GK_2025_1.html\n",
      "Tabela não encontrada no arquivo: GK_2025_2.html\n",
      "Hora Final: 18:36:22\n"
     ]
    }
   ],
   "source": [
    "import pandas as pd\n",
    "from bs4 import BeautifulSoup\n",
    "from datetime import datetime\n",
    "\n",
    "\n",
    "#TIMESTAMP DO COMEÇO\n",
    "hora_atual = datetime.now()\n",
    "hora_formatada = hora_atual.strftime(\"%H:%M:%S\")\n",
    "print(\"Hora Inicial:\", hora_formatada)\n",
    "\n",
    "arquivos = ['GK_2014_1.html', 'GK_2014_2.html', 'GK_2015_1.html', 'GK_2015_2.html', 'GK_2016_1.html', 'GK_2016_2.html', 'GK_2017_1.html', 'GK_2017_2.html', 'GK_2018_1.html', 'GK_2018_2.html', 'GK_2019_1.html', 'GK_2019_2.html', 'GK_2020_1.html', 'GK_2020_2.html', 'GK_2021_1.html', 'GK_2021_2.html', 'GK_2022_1.html', 'GK_2022_2.html', 'GK_2023_1.html', 'GK_2023_2.html', 'GK_2024_1.html', 'GK_2024_2.html', 'GK_2025_1.html', 'GK_2025_2.html']\n",
    "\n",
    "# Inicialize um DataFrame principal\n",
    "df_principal = pd.DataFrame()\n",
    "\n",
    "for arquivo in arquivos:\n",
    "    try:\n",
    "        with open(arquivo, 'r', encoding='utf-8') as file:\n",
    "            html_content = file.read()\n",
    "    except FileNotFoundError:\n",
    "        print(f\"Arquivo não encontrado: {arquivo}\")\n",
    "        continue\n",
    "\n",
    "    soup = BeautifulSoup(html_content, 'html.parser')\n",
    "    table = soup.find('table', {'class': 'items'})\n",
    "    \n",
    "    if not table:\n",
    "        print(f\"Tabela não encontrada no arquivo: {arquivo}\")\n",
    "        continue\n",
    "\n",
    "    rows = table.find_all('tr')\n",
    "    data = []\n",
    "    \n",
    "    for row in rows[:]:\n",
    "        cols = row.find_all('td')\n",
    "        row_data = []\n",
    "        for col in cols:\n",
    "            link = col.find('a')\n",
    "            if link:\n",
    "                row_data.append(link['href'])\n",
    "                row_data.append(link.text.strip())\n",
    "            elif col.find('img'):\n",
    "                img_alt = col.find('img')['alt']\n",
    "                row_data.append(img_alt.strip())\n",
    "            else:\n",
    "                row_data.append(col.text.strip())\n",
    "\n",
    "        #if len(row_data) == len(columns):\n",
    "        # Adicionar a linha, mesmo que o número de colunas seja diferente do esperado\n",
    "        if len(row_data) > 5:  # Apenas adicionar se houver dados\n",
    "            data.append(row_data)\n",
    "            \n",
    "\n",
    "    columns = [\n",
    "        'ID', 'Perfil', 'Nome', 'Nome Completo', 'URL Nome Completo', 'Repetido Nome', 'Posição',\n",
    "        'Idade', 'Valor de Mercado', 'Nacionalidade', 'URL Clube Antigo', 'Vazio 1', 'URL Clube Antigo Repetido',\n",
    "        'Vazio 2', 'URL Clube Antigo Repetido 2', 'Clube Antigo', 'URL Liga Antiga', 'Liga Antiga',\n",
    "        'URL Clube Novo', 'Vazio 3', 'URL Clube Novo Repetido', 'Vazio 4', 'URL Clube Novo Repetido 2',\n",
    "        'Clube Novo', 'URL Liga Nova', 'Liga Nova', 'Valor Transferência'\n",
    "    ]\n",
    "    \n",
    "    df = pd.DataFrame(data)\n",
    "    \n",
    "    # Adicionar ao DataFrame principal\n",
    "    df_principal = pd.concat([df_principal, df], ignore_index=True)\n",
    "df_principal\n",
    "\n",
    "# Salvar em CSV\n",
    "df_principal.to_csv('01-GK.csv.csv', index=False)\n",
    "\n",
    "#TIMESTAMP DO FINAL\n",
    "hora_atual = datetime.now()\n",
    "hora_formatada = hora_atual.strftime(\"%H:%M:%S\")\n",
    "print(\"Hora Final:\", hora_formatada)"
   ]
  }
 ],
 "metadata": {
  "kernelspec": {
   "display_name": "Python 3 (ipykernel)",
   "language": "python",
   "name": "python3"
  },
  "language_info": {
   "codemirror_mode": {
    "name": "ipython",
    "version": 3
   },
   "file_extension": ".py",
   "mimetype": "text/x-python",
   "name": "python",
   "nbconvert_exporter": "python",
   "pygments_lexer": "ipython3",
   "version": "3.9.12"
  }
 },
 "nbformat": 4,
 "nbformat_minor": 5
}
